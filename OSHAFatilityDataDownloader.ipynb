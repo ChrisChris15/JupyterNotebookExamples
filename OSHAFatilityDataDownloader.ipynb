{
 "cells": [
  {
   "cell_type": "markdown",
   "id": "ff29cf30-193a-4a97-bc9c-ccc01b159553",
   "metadata": {},
   "source": [
    "## Capture Fataility Data from OSHA\n",
    "\n",
    "Test getting 1 row from API line and converting it to a dataframe"
   ]
  },
  {
   "cell_type": "code",
   "execution_count": 1,
   "id": "6f573660-519a-4600-99eb-a2eb0039a84b",
   "metadata": {
    "tags": []
   },
   "outputs": [
    {
     "name": "stdout",
     "output_type": "stream",
     "text": [
      "{'d': [{'__metadata': {'uri': 'https://api.dol.gov/V1/Safety/Fatalities/OSHA_Fatalities(1L)', 'type': 'FatalitiesModel.OSHA_Fatalities'}, 'id': '1', 'dateofincident': '/Date(988848000000)/', 'companyandlocation': 'showpay LLC, Orlando, FL 32821', 'description': 'Worker was struck by a stack of industrial lighting that was being raised on a forklift.'}]}\n"
     ]
    }
   ],
   "source": [
    "import requests\n",
    "import json\n",
    "import pandas as pd\n",
    "\n",
    "#Get a API Key From https://devtools.dol.gov/developer\n",
    "apiKey = 'xxxxxx'\n",
    "headers = {'Accept': 'application/json', \"Authorization\": \"ApiKey=\" + apiKey}\n",
    "\n",
    "url = 'https://api.dol.gov/V1/Safety/Fatalities/OSHA_Fatalities/?$top=1'\n",
    "\n",
    "req = requests.get(url,headers=headers)\n",
    "osha_return = req.json()\n",
    "print(osha_return)"
   ]
  },
  {
   "cell_type": "code",
   "execution_count": 2,
   "id": "9dc6ff03-2d0b-48fa-9a35-8c7ba7116d37",
   "metadata": {
    "tags": []
   },
   "outputs": [
    {
     "data": {
      "text/plain": [
       "{'__metadata': {'uri': 'https://api.dol.gov/V1/Safety/Fatalities/OSHA_Fatalities(1L)',\n",
       "  'type': 'FatalitiesModel.OSHA_Fatalities'},\n",
       " 'id': '1',\n",
       " 'dateofincident': '/Date(988848000000)/',\n",
       " 'companyandlocation': 'showpay LLC, Orlando, FL 32821',\n",
       " 'description': 'Worker was struck by a stack of industrial lighting that was being raised on a forklift.'}"
      ]
     },
     "execution_count": 2,
     "metadata": {},
     "output_type": "execute_result"
    }
   ],
   "source": [
    "osha_return['d'][0]"
   ]
  },
  {
   "cell_type": "markdown",
   "id": "51afa7fa-24db-4315-b74d-66105daddf83",
   "metadata": {},
   "source": [
    "## Extract the data we want from the API request"
   ]
  },
  {
   "cell_type": "code",
   "execution_count": 3,
   "id": "3bfda528-1d00-4f80-aaab-3c6f47d450db",
   "metadata": {
    "tags": []
   },
   "outputs": [
    {
     "name": "stdout",
     "output_type": "stream",
     "text": [
      "1\n",
      "/Date(988848000000)/\n",
      "showpay LLC, Orlando, FL 32821\n",
      "Worker was struck by a stack of industrial lighting that was being raised on a forklift.\n"
     ]
    }
   ],
   "source": [
    "print(osha_return['d'][0]['id'])\n",
    "print(osha_return['d'][0]['dateofincident'])\n",
    "print(osha_return['d'][0]['companyandlocation'])\n",
    "print(osha_return['d'][0]['description'])"
   ]
  },
  {
   "cell_type": "markdown",
   "id": "023d090e-d36a-4ee7-b360-3549f7877ea4",
   "metadata": {},
   "source": [
    "## View Full API request (100 rows)\n",
    "The dataset returns a \"Next\" url to use to get the following result set."
   ]
  },
  {
   "cell_type": "code",
   "execution_count": 4,
   "id": "c1288b15-96aa-4504-b5b8-8345b2dcadc9",
   "metadata": {
    "tags": []
   },
   "outputs": [
    {
     "name": "stdout",
     "output_type": "stream",
     "text": [
      "100\n",
      "https://api.dol.gov/V1/Safety/Fatalities/OSHA_Fatalities/?$skiptoken=100L\n"
     ]
    }
   ],
   "source": [
    "url = 'https://api.dol.gov/V1/Safety/Fatalities/OSHA_Fatalities/'\n",
    "\n",
    "req = requests.get(url,headers=headers)\n",
    "osha_return = req.json()\n",
    "print(len(osha_return['d']['results']))\n",
    "print(osha_return['d']['__next'])"
   ]
  },
  {
   "cell_type": "code",
   "execution_count": 5,
   "id": "a3e2cfa6-8091-446d-8808-164a65d22460",
   "metadata": {
    "tags": []
   },
   "outputs": [],
   "source": [
    "while len(osha_return['d']['results']) == 100 and '__next' in osha_return['d'].keys():\n",
    "    next_url = osha_return['d']['__next']\n",
    "    next_req = requests.get(next_url,headers=headers)\n",
    "    osha_return = next_req.json()"
   ]
  },
  {
   "cell_type": "markdown",
   "id": "d88f9dc0-d4bb-4d0c-9177-7bf4fcea1ef6",
   "metadata": {},
   "source": [
    "## Testing iteration to loop through full 100 but also stop when there is not next series url without failing"
   ]
  },
  {
   "cell_type": "code",
   "execution_count": 18,
   "id": "33ea6fea-4afe-4572-b036-5eb6efd2b50d",
   "metadata": {
    "tags": []
   },
   "outputs": [
    {
     "name": "stdout",
     "output_type": "stream",
     "text": [
      "100     |     https://api.dol.gov/V1/Safety/Fatalities/OSHA_Fatalities/?$skiptoken=100L\n",
      "100     |     https://api.dol.gov/V1/Safety/Fatalities/OSHA_Fatalities/?$skiptoken=200L\n",
      "100     |     https://api.dol.gov/V1/Safety/Fatalities/OSHA_Fatalities/?$skiptoken=300L\n",
      "100     |     https://api.dol.gov/V1/Safety/Fatalities/OSHA_Fatalities/?$skiptoken=400L\n",
      "100     |     https://api.dol.gov/V1/Safety/Fatalities/OSHA_Fatalities/?$skiptoken=500L\n",
      "100     |     https://api.dol.gov/V1/Safety/Fatalities/OSHA_Fatalities/?$skiptoken=600L\n",
      "100     |     https://api.dol.gov/V1/Safety/Fatalities/OSHA_Fatalities/?$skiptoken=700L\n",
      "100     |     https://api.dol.gov/V1/Safety/Fatalities/OSHA_Fatalities/?$skiptoken=800L\n",
      "100     |     https://api.dol.gov/V1/Safety/Fatalities/OSHA_Fatalities/?$skiptoken=900L\n",
      "100     |     https://api.dol.gov/V1/Safety/Fatalities/OSHA_Fatalities/?$skiptoken=1000L\n",
      "100     |     https://api.dol.gov/V1/Safety/Fatalities/OSHA_Fatalities/?$skiptoken=1100L\n",
      "100     |     https://api.dol.gov/V1/Safety/Fatalities/OSHA_Fatalities/?$skiptoken=1200L\n",
      "100     |     https://api.dol.gov/V1/Safety/Fatalities/OSHA_Fatalities/?$skiptoken=1300L\n",
      "100     |     https://api.dol.gov/V1/Safety/Fatalities/OSHA_Fatalities/?$skiptoken=1400L\n",
      "100     |     https://api.dol.gov/V1/Safety/Fatalities/OSHA_Fatalities/?$skiptoken=1500L\n",
      "100     |     https://api.dol.gov/V1/Safety/Fatalities/OSHA_Fatalities/?$skiptoken=1600L\n",
      "100     |     https://api.dol.gov/V1/Safety/Fatalities/OSHA_Fatalities/?$skiptoken=1700L\n",
      "100     |     https://api.dol.gov/V1/Safety/Fatalities/OSHA_Fatalities/?$skiptoken=1800L\n",
      "100     |     https://api.dol.gov/V1/Safety/Fatalities/OSHA_Fatalities/?$skiptoken=1900L\n",
      "100     |     https://api.dol.gov/V1/Safety/Fatalities/OSHA_Fatalities/?$skiptoken=2000L\n",
      "100     |     https://api.dol.gov/V1/Safety/Fatalities/OSHA_Fatalities/?$skiptoken=2100L\n",
      "100     |     https://api.dol.gov/V1/Safety/Fatalities/OSHA_Fatalities/?$skiptoken=2200L\n",
      "100     |     https://api.dol.gov/V1/Safety/Fatalities/OSHA_Fatalities/?$skiptoken=2300L\n",
      "100     |     https://api.dol.gov/V1/Safety/Fatalities/OSHA_Fatalities/?$skiptoken=2400L\n",
      "100     |     https://api.dol.gov/V1/Safety/Fatalities/OSHA_Fatalities/?$skiptoken=2500L\n",
      "100     |     https://api.dol.gov/V1/Safety/Fatalities/OSHA_Fatalities/?$skiptoken=2600L\n",
      "100     |     https://api.dol.gov/V1/Safety/Fatalities/OSHA_Fatalities/?$skiptoken=2700L\n",
      "100     |     https://api.dol.gov/V1/Safety/Fatalities/OSHA_Fatalities/?$skiptoken=2800L\n",
      "24https://api.dol.gov/V1/Safety/Fatalities/OSHA_Fatalities/?$skiptoken=2800L\n"
     ]
    }
   ],
   "source": [
    "req = requests.get(url,headers=headers)\n",
    "osha_return = req.json()\n",
    "\n",
    "while len(osha_return['d']['results']) == 100 and '__next' in osha_return['d'].keys():\n",
    "    print(str(len(osha_return['d']['results'])) + \"     |     \" + osha_return['d']['__next'])\n",
    "    next_url = osha_return['d']['__next']\n",
    "    next_req = requests.get(next_url,headers=headers)\n",
    "    osha_return = next_req.json()\n",
    "\n",
    "print(str(len(osha_return['d']['results'])) + next_url)"
   ]
  },
  {
   "cell_type": "markdown",
   "id": "5a4f53fb-03cc-47d3-af79-79d3087416db",
   "metadata": {},
   "source": [
    "## Completed Script to download all the OSHA Fatality Data to a csv file."
   ]
  },
  {
   "cell_type": "code",
   "execution_count": 43,
   "id": "62f3bcf7-5067-4033-ba76-f68dff5886ae",
   "metadata": {
    "tags": []
   },
   "outputs": [
    {
     "data": {
      "text/html": [
       "<div>\n",
       "<style scoped>\n",
       "    .dataframe tbody tr th:only-of-type {\n",
       "        vertical-align: middle;\n",
       "    }\n",
       "\n",
       "    .dataframe tbody tr th {\n",
       "        vertical-align: top;\n",
       "    }\n",
       "\n",
       "    .dataframe thead th {\n",
       "        text-align: right;\n",
       "    }\n",
       "</style>\n",
       "<table border=\"1\" class=\"dataframe\">\n",
       "  <thead>\n",
       "    <tr style=\"text-align: right;\">\n",
       "      <th></th>\n",
       "      <th>__metadata</th>\n",
       "      <th>id</th>\n",
       "      <th>dateofincident</th>\n",
       "      <th>companyandlocation</th>\n",
       "      <th>description</th>\n",
       "    </tr>\n",
       "  </thead>\n",
       "  <tbody>\n",
       "    <tr>\n",
       "      <th>0</th>\n",
       "      <td>{'uri': 'https://api.dol.gov/V1/Safety/Fatalit...</td>\n",
       "      <td>1</td>\n",
       "      <td>/Date(988848000000)/</td>\n",
       "      <td>showpay LLC, Orlando, FL 32821</td>\n",
       "      <td>Worker was struck by a stack of industrial lig...</td>\n",
       "    </tr>\n",
       "    <tr>\n",
       "      <th>1</th>\n",
       "      <td>{'uri': 'https://api.dol.gov/V1/Safety/Fatalit...</td>\n",
       "      <td>2</td>\n",
       "      <td>/Date(989712000000)/</td>\n",
       "      <td>AEG Live Productions, LLC Kansas City, MO 64108</td>\n",
       "      <td>Worker putting together a concert stage died w...</td>\n",
       "    </tr>\n",
       "    <tr>\n",
       "      <th>2</th>\n",
       "      <td>{'uri': 'https://api.dol.gov/V1/Safety/Fatalit...</td>\n",
       "      <td>3</td>\n",
       "      <td>/Date(990403200000)/</td>\n",
       "      <td>Dynamic Auto Brokers, Inc., Sussex, NJ 07461</td>\n",
       "      <td>Worker removing a downed tree was electrocuted...</td>\n",
       "    </tr>\n",
       "    <tr>\n",
       "      <th>3</th>\n",
       "      <td>{'uri': 'https://api.dol.gov/V1/Safety/Fatalit...</td>\n",
       "      <td>4</td>\n",
       "      <td>/Date(991612800000)/</td>\n",
       "      <td>Prevail Energy, Incorporated, Corpus Christi, ...</td>\n",
       "      <td>A worker was killed when a tractor being loade...</td>\n",
       "    </tr>\n",
       "    <tr>\n",
       "      <th>4</th>\n",
       "      <td>{'uri': 'https://api.dol.gov/V1/Safety/Fatalit...</td>\n",
       "      <td>5</td>\n",
       "      <td>/Date(991872000000)/</td>\n",
       "      <td>Interstate Waste Services, Inc., Chester, NY 1...</td>\n",
       "      <td>Waste disposal worker crossing street to colle...</td>\n",
       "    </tr>\n",
       "    <tr>\n",
       "      <th>...</th>\n",
       "      <td>...</td>\n",
       "      <td>...</td>\n",
       "      <td>...</td>\n",
       "      <td>...</td>\n",
       "      <td>...</td>\n",
       "    </tr>\n",
       "    <tr>\n",
       "      <th>2843</th>\n",
       "      <td>{'uri': 'https://api.dol.gov/V1/Safety/Fatalit...</td>\n",
       "      <td>2820</td>\n",
       "      <td>/Date(1330992000000)/</td>\n",
       "      <td>Epstein Construction Inc., Chicago, IL 60661</td>\n",
       "      <td>Construction manager driving his truck on work...</td>\n",
       "    </tr>\n",
       "    <tr>\n",
       "      <th>2844</th>\n",
       "      <td>{'uri': 'https://api.dol.gov/V1/Safety/Fatalit...</td>\n",
       "      <td>2821</td>\n",
       "      <td>/Date(1330992000000)/</td>\n",
       "      <td>National Steel City LLC, Calvert, AL 36513</td>\n",
       "      <td>Worker installing duct work in building under ...</td>\n",
       "    </tr>\n",
       "    <tr>\n",
       "      <th>2845</th>\n",
       "      <td>{'uri': 'https://api.dol.gov/V1/Safety/Fatalit...</td>\n",
       "      <td>2822</td>\n",
       "      <td>/Date(1330992000000)/</td>\n",
       "      <td>Berlanga General Painting, Eagle Pass, TX 78852</td>\n",
       "      <td>Worker using an aerial lift to paint air ducts...</td>\n",
       "    </tr>\n",
       "    <tr>\n",
       "      <th>2846</th>\n",
       "      <td>{'uri': 'https://api.dol.gov/V1/Safety/Fatalit...</td>\n",
       "      <td>2823</td>\n",
       "      <td>/Date(1331078400000)/</td>\n",
       "      <td>sieveking Inc., Hazelwood, MO 63042</td>\n",
       "      <td>Worker using a portable ladder to hook a hose ...</td>\n",
       "    </tr>\n",
       "    <tr>\n",
       "      <th>2847</th>\n",
       "      <td>{'uri': 'https://api.dol.gov/V1/Safety/Fatalit...</td>\n",
       "      <td>2824</td>\n",
       "      <td>/Date(1331164800000)/</td>\n",
       "      <td>Nugents Tree Service Inc., Massapequa, NY 11758</td>\n",
       "      <td>Worker died after falling while trimming trees.</td>\n",
       "    </tr>\n",
       "  </tbody>\n",
       "</table>\n",
       "<p>2848 rows × 5 columns</p>\n",
       "</div>"
      ],
      "text/plain": [
       "                                             __metadata    id   \n",
       "0     {'uri': 'https://api.dol.gov/V1/Safety/Fatalit...     1  \\\n",
       "1     {'uri': 'https://api.dol.gov/V1/Safety/Fatalit...     2   \n",
       "2     {'uri': 'https://api.dol.gov/V1/Safety/Fatalit...     3   \n",
       "3     {'uri': 'https://api.dol.gov/V1/Safety/Fatalit...     4   \n",
       "4     {'uri': 'https://api.dol.gov/V1/Safety/Fatalit...     5   \n",
       "...                                                 ...   ...   \n",
       "2843  {'uri': 'https://api.dol.gov/V1/Safety/Fatalit...  2820   \n",
       "2844  {'uri': 'https://api.dol.gov/V1/Safety/Fatalit...  2821   \n",
       "2845  {'uri': 'https://api.dol.gov/V1/Safety/Fatalit...  2822   \n",
       "2846  {'uri': 'https://api.dol.gov/V1/Safety/Fatalit...  2823   \n",
       "2847  {'uri': 'https://api.dol.gov/V1/Safety/Fatalit...  2824   \n",
       "\n",
       "             dateofincident   \n",
       "0      /Date(988848000000)/  \\\n",
       "1      /Date(989712000000)/   \n",
       "2      /Date(990403200000)/   \n",
       "3      /Date(991612800000)/   \n",
       "4      /Date(991872000000)/   \n",
       "...                     ...   \n",
       "2843  /Date(1330992000000)/   \n",
       "2844  /Date(1330992000000)/   \n",
       "2845  /Date(1330992000000)/   \n",
       "2846  /Date(1331078400000)/   \n",
       "2847  /Date(1331164800000)/   \n",
       "\n",
       "                                     companyandlocation   \n",
       "0                        showpay LLC, Orlando, FL 32821  \\\n",
       "1       AEG Live Productions, LLC Kansas City, MO 64108   \n",
       "2          Dynamic Auto Brokers, Inc., Sussex, NJ 07461   \n",
       "3     Prevail Energy, Incorporated, Corpus Christi, ...   \n",
       "4     Interstate Waste Services, Inc., Chester, NY 1...   \n",
       "...                                                 ...   \n",
       "2843       Epstein Construction Inc., Chicago, IL 60661   \n",
       "2844         National Steel City LLC, Calvert, AL 36513   \n",
       "2845    Berlanga General Painting, Eagle Pass, TX 78852   \n",
       "2846                sieveking Inc., Hazelwood, MO 63042   \n",
       "2847    Nugents Tree Service Inc., Massapequa, NY 11758   \n",
       "\n",
       "                                            description  \n",
       "0     Worker was struck by a stack of industrial lig...  \n",
       "1     Worker putting together a concert stage died w...  \n",
       "2     Worker removing a downed tree was electrocuted...  \n",
       "3     A worker was killed when a tractor being loade...  \n",
       "4     Waste disposal worker crossing street to colle...  \n",
       "...                                                 ...  \n",
       "2843  Construction manager driving his truck on work...  \n",
       "2844  Worker installing duct work in building under ...  \n",
       "2845  Worker using an aerial lift to paint air ducts...  \n",
       "2846  Worker using a portable ladder to hook a hose ...  \n",
       "2847    Worker died after falling while trimming trees.  \n",
       "\n",
       "[2848 rows x 5 columns]"
      ]
     },
     "execution_count": 43,
     "metadata": {},
     "output_type": "execute_result"
    }
   ],
   "source": [
    "import requests\n",
    "import json\n",
    "import pandas as pd\n",
    "\n",
    "returned_data = []\n",
    "\n",
    "#Get a API Key From https://devtools.dol.gov/developer\n",
    "apiKey = 'a6c7457e-61de-4ba8-8154-4e6842d9b9bc'\n",
    "headers = {'Accept': 'application/json', \"Authorization\": \"ApiKey=\" + apiKey}\n",
    "\n",
    "url = 'https://api.dol.gov/V1/Safety/Fatalities/OSHA_Fatalities/'\n",
    "\n",
    "req = requests.get(url,headers=headers)\n",
    "osha_return = req.json()\n",
    "\n",
    "for record in osha_return['d']['results']:\n",
    "    returned_data.append(record)\n",
    "    \n",
    "    \n",
    "while len(osha_return['d']['results']) == 100 and '__next' in osha_return['d'].keys():\n",
    "    next_url = osha_return['d']['__next']\n",
    "    next_req = requests.get(next_url,headers=headers)\n",
    "    osha_return = next_req.json()\n",
    "    for records in osha_return['d']['results']:\n",
    "        returned_data.append(records)\n",
    "    \n",
    "    \n",
    "last_url = next_url\n",
    "last_req = requests.get(last_url,headers=headers)\n",
    "last_return = last_req.json()\n",
    "for record_end in osha_return['d']['results']:\n",
    "    returned_data.append(record_end)\n",
    "\n",
    "df = pd.DataFrame.from_dict(returned_data)\n",
    "df\n",
    "#df.to_csv('output.csv', sep=',')"
   ]
  }
 ],
 "metadata": {
  "kernelspec": {
   "display_name": "Python 3 (ipykernel)",
   "language": "python",
   "name": "python3"
  },
  "language_info": {
   "codemirror_mode": {
    "name": "ipython",
    "version": 3
   },
   "file_extension": ".py",
   "mimetype": "text/x-python",
   "name": "python",
   "nbconvert_exporter": "python",
   "pygments_lexer": "ipython3",
   "version": "3.10.10"
  }
 },
 "nbformat": 4,
 "nbformat_minor": 5
}
