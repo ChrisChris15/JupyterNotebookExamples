{
 "cells": [
  {
   "cell_type": "markdown",
   "id": "531f37c0-1161-4feb-8198-6cb1ef0e6565",
   "metadata": {},
   "source": [
    "### Summary of Steps\n",
    "\n",
    "1. Open csv containing all the offenses\n",
    "2. Loop through each row and get embedded data for the given offense\n",
    "3. Write the offense and embedding to a dataframe\n",
    "4. Dump that dataframe to a new .csv file\n",
    "\n",
    "| WARNING: **Script will take longer to run due to OpenAI API calls** |\n",
    "| --- |"
   ]
  },
  {
   "cell_type": "code",
   "execution_count": 1,
   "id": "071a41b1-e03d-4095-bef2-b7f9274fe8b5",
   "metadata": {
    "tags": []
   },
   "outputs": [],
   "source": [
    "import os\n",
    "import math\n",
    "import requests\n",
    "import json\n",
    "import urllib3\n",
    "import pandas as pd\n",
    "\n",
    "import openai\n",
    "\n",
    "raw_file_in = 'police_output.csv'\n",
    "\n",
    "rawData = pd.read_csv(raw_file_in, usecols = ['OFFENSES'])\n",
    "\n",
    "off_results = []\n",
    "emb_results = []\n",
    "\n",
    "openai.api_key = \"sk-OUrLCxcGrUxxxxxxxxxxxxxxxxxxxxxxlqizB6PDP4dXEz\"\n",
    "\n",
    "for index, row in rawData.iterrows():\n",
    "    #print(row.values) # will be the string followed by the embedding\n",
    "    row_json = row.to_json()\n",
    "    #testAdd = \"YUP\"\n",
    "    embedding = openai.Embedding.create(input=row_json, model=\"text-embedding-ada-002\")[\"data\"][0][\"embedding\"]\n",
    "    #print(row_json)\n",
    "    off_results.append(str(row.values).replace('[','').replace(\"'\",\"\").replace(']',''))\n",
    "    emb_results.append(embedding)\n",
    "    \n",
    "final_df = pd.DataFrame({'offense':off_results, 'embedding':emb_results})\n",
    "#final_df"
   ]
  },
  {
   "cell_type": "code",
   "execution_count": 2,
   "id": "604e723e-3528-4b15-9c51-169eb803de2d",
   "metadata": {
    "tags": []
   },
   "outputs": [],
   "source": [
    "final_df.to_csv('police_with_embeddings.csv', index = False)"
   ]
  }
 ],
 "metadata": {
  "kernelspec": {
   "display_name": "Python 3 (ipykernel)",
   "language": "python",
   "name": "python3"
  },
  "language_info": {
   "codemirror_mode": {
    "name": "ipython",
    "version": 3
   },
   "file_extension": ".py",
   "mimetype": "text/x-python",
   "name": "python",
   "nbconvert_exporter": "python",
   "pygments_lexer": "ipython3",
   "version": "3.10.10"
  }
 },
 "nbformat": 4,
 "nbformat_minor": 5
}
