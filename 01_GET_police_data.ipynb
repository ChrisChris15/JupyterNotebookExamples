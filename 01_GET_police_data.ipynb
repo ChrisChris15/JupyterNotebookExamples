{
 "cells": [
  {
   "cell_type": "markdown",
   "id": "320a889e-7050-4dc2-970a-da3b6b85a0ae",
   "metadata": {},
   "source": [
    "### Get police data from WPRDC and write to a csv"
   ]
  },
  {
   "cell_type": "code",
   "execution_count": 1,
   "id": "9040b9c1-7a2c-4b52-ace7-d7b05d663301",
   "metadata": {
    "tags": []
   },
   "outputs": [],
   "source": [
    "import os\n",
    "import math\n",
    "import requests\n",
    "import json\n",
    "import urllib3\n",
    "import pandas as pd\n",
    " \n",
    "results = [] \n",
    " \n",
    "url = 'https://data.wprdc.org/api/3/action/datastore_search?offset=0&limit=1&resource_id=1797ead8-8262-41cc-9099-cbc8a161924b'\n",
    " \n",
    "http = urllib3.PoolManager()\n",
    "row_count = int(requests.get(url).json()['result']['total'])\n",
    "segments_int = math.floor(row_count / 10000)\n",
    "segments_dec = row_count / 10000\n",
    " \n",
    "#r = requests.get(f'https://data.wprdc.org/api/3/action/datastore_search?offset={i}&limit=10000&resource_id=1797ead8-8262-41cc-9099-cbc8a161924b').json()['result']['records']\n",
    "\n",
    "for i in range(segments_int + 1):\n",
    "    i = i * 10000\n",
    "    r = requests.get(f'https://data.wprdc.org/api/3/action/datastore_search?offset={i}&limit=10000&resource_id=1797ead8-8262-41cc-9099-cbc8a161924b').json()['result']['records']\n",
    "    for x in r:\n",
    "        results.append(x)\n",
    "        \n",
    "df = pd.json_normalize(results)\n",
    "#df\n",
    "\n",
    "df.to_csv('police_output.csv')"
   ]
  },
  {
   "cell_type": "markdown",
   "id": "e1bab6be-f74d-419f-852f-f354228cd60b",
   "metadata": {},
   "source": [
    "### Open CSV into dataframe"
   ]
  },
  {
   "cell_type": "code",
   "execution_count": 2,
   "id": "f0af15bb-730a-41ca-acb0-5d602c421d81",
   "metadata": {
    "tags": []
   },
   "outputs": [
    {
     "data": {
      "text/html": [
       "<div>\n",
       "<style scoped>\n",
       "    .dataframe tbody tr th:only-of-type {\n",
       "        vertical-align: middle;\n",
       "    }\n",
       "\n",
       "    .dataframe tbody tr th {\n",
       "        vertical-align: top;\n",
       "    }\n",
       "\n",
       "    .dataframe thead th {\n",
       "        text-align: right;\n",
       "    }\n",
       "</style>\n",
       "<table border=\"1\" class=\"dataframe\">\n",
       "  <thead>\n",
       "    <tr style=\"text-align: right;\">\n",
       "      <th></th>\n",
       "      <th>OFFENSES</th>\n",
       "    </tr>\n",
       "  </thead>\n",
       "  <tbody>\n",
       "    <tr>\n",
       "      <th>0</th>\n",
       "      <td>3921 Theft by Unlawful Taking or Disposition.</td>\n",
       "    </tr>\n",
       "    <tr>\n",
       "      <th>1</th>\n",
       "      <td>3304 Criminal Mischief.</td>\n",
       "    </tr>\n",
       "    <tr>\n",
       "      <th>2</th>\n",
       "      <td>9093 Indirect Criminal Contempt</td>\n",
       "    </tr>\n",
       "    <tr>\n",
       "      <th>3</th>\n",
       "      <td>9999 9999 - (Misc. Incident):</td>\n",
       "    </tr>\n",
       "    <tr>\n",
       "      <th>4</th>\n",
       "      <td>2709(a) Harassment.</td>\n",
       "    </tr>\n",
       "    <tr>\n",
       "      <th>...</th>\n",
       "      <td>...</td>\n",
       "    </tr>\n",
       "    <tr>\n",
       "      <th>3127</th>\n",
       "      <td>2705 Recklessly Endangering Another Person. / ...</td>\n",
       "    </tr>\n",
       "    <tr>\n",
       "      <th>3128</th>\n",
       "      <td>3503 Criminal Trespass</td>\n",
       "    </tr>\n",
       "    <tr>\n",
       "      <th>3129</th>\n",
       "      <td>9489 Found Property</td>\n",
       "    </tr>\n",
       "    <tr>\n",
       "      <th>3130</th>\n",
       "      <td>9489 Found Property</td>\n",
       "    </tr>\n",
       "    <tr>\n",
       "      <th>3131</th>\n",
       "      <td>3503 Criminal Trespass</td>\n",
       "    </tr>\n",
       "  </tbody>\n",
       "</table>\n",
       "<p>3132 rows × 1 columns</p>\n",
       "</div>"
      ],
      "text/plain": [
       "                                               OFFENSES\n",
       "0         3921 Theft by Unlawful Taking or Disposition.\n",
       "1                               3304 Criminal Mischief.\n",
       "2                       9093 Indirect Criminal Contempt\n",
       "3                        9999 9999 - (Misc. Incident): \n",
       "4                                   2709(a) Harassment.\n",
       "...                                                 ...\n",
       "3127  2705 Recklessly Endangering Another Person. / ...\n",
       "3128                             3503 Criminal Trespass\n",
       "3129                                9489 Found Property\n",
       "3130                                9489 Found Property\n",
       "3131                             3503 Criminal Trespass\n",
       "\n",
       "[3132 rows x 1 columns]"
      ]
     },
     "execution_count": 2,
     "metadata": {},
     "output_type": "execute_result"
    }
   ],
   "source": [
    "raw_file_in = 'police_output.csv'\n",
    "\n",
    "rawData = pd.read_csv(raw_file_in, usecols = ['OFFENSES'])\n",
    "rawData"
   ]
  }
 ],
 "metadata": {
  "kernelspec": {
   "display_name": "Python 3 (ipykernel)",
   "language": "python",
   "name": "python3"
  },
  "language_info": {
   "codemirror_mode": {
    "name": "ipython",
    "version": 3
   },
   "file_extension": ".py",
   "mimetype": "text/x-python",
   "name": "python",
   "nbconvert_exporter": "python",
   "pygments_lexer": "ipython3",
   "version": "3.10.10"
  }
 },
 "nbformat": 4,
 "nbformat_minor": 5
}
